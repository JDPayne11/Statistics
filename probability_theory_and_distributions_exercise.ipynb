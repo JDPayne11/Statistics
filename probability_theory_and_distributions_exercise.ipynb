{
 "cells": [
  {
   "cell_type": "code",
   "execution_count": 1,
   "metadata": {
    "ExecuteTime": {
     "end_time": "2020-02-05T17:54:42.062131Z",
     "start_time": "2020-02-05T17:54:41.626763Z"
    }
   },
   "outputs": [],
   "source": [
    "# import numpy\n",
    "import numpy as np\n",
    "\n",
    "# import matplotlib.pyplot\n",
    "import matplotlib.pyplot as plt\n",
    "\n",
    "# import Counter\n",
    "from collections import Counter\n",
    "\n",
    "# use style 'fivethirtyeight' (optional)\n",
    "plt.style.use('fivethirtyeight')"
   ]
  },
  {
   "cell_type": "markdown",
   "metadata": {
    "ExecuteTime": {
     "end_time": "2020-02-05T17:54:42.113199Z",
     "start_time": "2020-02-05T17:54:42.101587Z"
    }
   },
   "source": [
    "#### Create function `perform_bernoulli_trial` with parameters n and p\n",
    "\n",
    "PARAMS:\n",
    "- n (int) - number of trials\n",
    "- p (float) - probability of success\n",
    "\n",
    "RETURNS:\n",
    "- n_success (int) - number of successes\n",
    "\n"
   ]
  },
  {
   "cell_type": "code",
   "execution_count": 2,
   "metadata": {},
   "outputs": [
    {
     "name": "stdout",
     "output_type": "stream",
     "text": [
      "4\n"
     ]
    }
   ],
   "source": [
    "def perform_bernoulli_trial(n,p):\n",
    "    samples = np.random.binomial(n,p)\n",
    "    return samples\n",
    "    \n",
    "print(perform_bernoulli_trial(10,0.5))\n",
    "    \n",
    "    "
   ]
  },
  {
   "cell_type": "code",
   "execution_count": null,
   "metadata": {},
   "outputs": [],
   "source": []
  },
  {
   "cell_type": "markdown",
   "metadata": {
    "ExecuteTime": {
     "end_time": "2020-02-05T17:54:42.610756Z",
     "start_time": "2020-02-05T17:54:42.602316Z"
    }
   },
   "source": [
    "#### Use function `perform_bernoulli_trial` with inputs n = 100, p = 0.5"
   ]
  },
  {
   "cell_type": "code",
   "execution_count": 3,
   "metadata": {},
   "outputs": [
    {
     "name": "stdout",
     "output_type": "stream",
     "text": [
      "54\n"
     ]
    }
   ],
   "source": [
    "print(perform_bernoulli_trial(100,0.5))"
   ]
  },
  {
   "cell_type": "code",
   "execution_count": null,
   "metadata": {},
   "outputs": [],
   "source": []
  },
  {
   "cell_type": "markdown",
   "metadata": {
    "ExecuteTime": {
     "end_time": "2020-02-05T17:54:43.020097Z",
     "start_time": "2020-02-05T17:54:42.962800Z"
    }
   },
   "source": [
    "#### Call function _perform_bernoulli_trial_ 1000-times with same parameters as before and store the result in `successes_list`"
   ]
  },
  {
   "cell_type": "code",
   "execution_count": 4,
   "metadata": {},
   "outputs": [
    {
     "name": "stdout",
     "output_type": "stream",
     "text": [
      "[46, 53, 62, 50, 64, 51, 39, 47, 48, 48, 48, 49, 44, 46, 55, 57, 57, 46, 52, 46, 50, 53, 48, 46, 58, 57, 50, 50, 51, 53, 42, 49, 52, 46, 52, 50, 48, 54, 49, 46, 57, 61, 45, 51, 50, 51, 52, 41, 59, 51, 56, 50, 52, 53, 43, 52, 45, 54, 53, 45, 44, 50, 49, 47, 46, 52, 54, 47, 51, 51, 48, 46, 46, 50, 54, 54, 44, 47, 56, 49, 60, 56, 53, 50, 46, 56, 52, 34, 44, 47, 53, 43, 42, 43, 57, 49, 51, 49, 50, 54, 59, 54, 47, 51, 42, 48, 52, 52, 57, 53, 54, 55, 46, 52, 52, 56, 55, 53, 53, 54, 55, 56, 44, 52, 54, 44, 57, 54, 47, 54, 39, 54, 49, 52, 41, 44, 56, 51, 43, 49, 43, 42, 59, 48, 50, 52, 52, 49, 52, 39, 49, 50, 39, 47, 45, 46, 59, 45, 52, 49, 45, 56, 48, 59, 51, 52, 47, 51, 44, 50, 49, 54, 52, 42, 48, 57, 49, 59, 46, 47, 46, 49, 43, 49, 50, 42, 58, 47, 55, 52, 46, 40, 46, 45, 46, 47, 50, 51, 51, 47, 50, 49, 49, 45, 47, 50, 47, 51, 42, 45, 54, 57, 52, 45, 41, 56, 50, 46, 54, 44, 54, 48, 39, 56, 50, 50, 45, 51, 42, 50, 49, 57, 49, 38, 43, 59, 55, 51, 60, 54, 55, 56, 37, 52, 44, 49, 56, 46, 55, 48, 61, 60, 49, 53, 52, 51, 45, 44, 50, 55, 52, 52, 53, 51, 51, 45, 53, 45, 49, 41, 47, 45, 45, 50, 61, 55, 47, 47, 51, 48, 49, 43, 48, 53, 48, 50, 49, 50, 49, 53, 54, 50, 52, 53, 49, 45, 45, 50, 55, 52, 56, 58, 48, 52, 50, 56, 42, 50, 57, 50, 49, 48, 42, 53, 49, 55, 56, 51, 46, 45, 45, 47, 62, 51, 49, 48, 47, 61, 59, 48, 47, 55, 48, 53, 55, 64, 50, 44, 51, 50, 46, 52, 48, 55, 54, 52, 51, 51, 52, 43, 50, 51, 49, 48, 54, 50, 51, 46, 44, 48, 49, 54, 56, 48, 56, 41, 45, 43, 56, 45, 51, 58, 61, 52, 46, 46, 53, 47, 42, 46, 48, 54, 41, 43, 47, 42, 50, 59, 52, 52, 50, 53, 58, 65, 42, 55, 50, 44, 57, 47, 56, 53, 53, 51, 48, 51, 50, 43, 47, 52, 50, 50, 46, 47, 48, 42, 52, 57, 44, 59, 53, 47, 56, 53, 55, 43, 49, 53, 58, 39, 45, 49, 51, 44, 57, 51, 46, 46, 46, 55, 49, 50, 45, 45, 47, 56, 53, 46, 44, 51, 55, 45, 48, 45, 55, 53, 50, 44, 51, 47, 48, 58, 53, 49, 50, 41, 48, 56, 55, 60, 40, 54, 42, 48, 47, 38, 53, 57, 51, 52, 44, 52, 55, 48, 47, 47, 56, 55, 49, 50, 47, 51, 48, 54, 42, 54, 58, 55, 59, 59, 54, 52, 52, 50, 43, 56, 46, 50, 50, 54, 37, 48, 52, 59, 50, 46, 47, 55, 63, 41, 56, 52, 53, 52, 52, 53, 45, 51, 46, 54, 48, 53, 52, 45, 46, 54, 51, 50, 57, 58, 44, 57, 41, 50, 57, 53, 53, 61, 55, 60, 52, 43, 55, 60, 43, 55, 46, 60, 51, 48, 48, 56, 54, 54, 47, 58, 50, 42, 60, 55, 47, 48, 51, 53, 44, 55, 50, 48, 47, 37, 43, 50, 46, 56, 66, 45, 50, 39, 54, 49, 48, 43, 48, 46, 55, 47, 54, 47, 54, 49, 55, 46, 47, 56, 52, 42, 55, 54, 53, 46, 50, 47, 46, 40, 46, 47, 50, 47, 49, 46, 44, 50, 64, 51, 44, 44, 55, 41, 56, 51, 53, 43, 50, 55, 43, 52, 55, 46, 40, 48, 41, 57, 54, 50, 43, 47, 60, 49, 50, 44, 49, 56, 55, 49, 44, 60, 47, 48, 44, 52, 54, 59, 49, 49, 45, 50, 43, 51, 54, 53, 41, 41, 54, 49, 49, 52, 53, 45, 58, 48, 44, 54, 51, 57, 49, 51, 46, 50, 47, 47, 44, 54, 49, 52, 45, 45, 47, 56, 54, 51, 52, 50, 57, 48, 41, 47, 49, 48, 44, 49, 44, 47, 44, 50, 51, 43, 50, 55, 53, 46, 48, 56, 47, 46, 58, 48, 46, 51, 47, 57, 48, 44, 47, 49, 55, 46, 57, 49, 65, 53, 43, 55, 55, 53, 48, 43, 49, 54, 57, 50, 49, 50, 51, 46, 36, 52, 56, 49, 50, 43, 46, 59, 43, 50, 43, 52, 45, 50, 52, 51, 61, 45, 56, 53, 49, 50, 56, 53, 46, 60, 55, 47, 56, 40, 48, 58, 45, 55, 50, 47, 49, 47, 53, 51, 47, 49, 45, 53, 42, 43, 59, 58, 46, 45, 43, 53, 49, 48, 44, 43, 51, 58, 49, 44, 59, 46, 45, 59, 53, 55, 49, 57, 52, 53, 40, 45, 49, 45, 49, 43, 50, 49, 53, 49, 42, 56, 54, 52, 58, 48, 51, 52, 48, 48, 57, 48, 54, 51, 48, 54, 50, 54, 45, 51, 48, 46, 41, 51, 54, 46, 47, 54, 49, 49, 45, 58, 51, 50, 49, 58, 52, 53, 47, 49, 50, 46, 51, 49, 49, 52, 52, 56, 44, 52, 44, 43, 43, 48, 47, 47, 51, 49, 50, 52, 44, 60, 59, 52, 45, 50, 52, 52, 55, 55, 54, 52, 51, 50, 51, 40, 58, 45, 43, 50, 50, 55, 51, 58, 52, 46, 51, 46, 42, 52, 44, 47, 52, 51, 54, 40, 55, 49, 48, 51, 50, 55, 50, 52, 52, 46, 46, 55, 44, 57, 52, 48, 49, 45, 53, 51, 50, 56, 59, 59, 53, 52, 49, 49, 40, 55, 46, 47, 54, 45, 50, 53, 40, 50, 52, 46, 57, 57, 42, 55, 51, 52, 51, 49, 51, 52, 45, 49, 53, 51, 50, 50, 49, 48, 47, 46, 48, 49, 55, 56, 49, 56, 47, 58, 50, 52]\n"
     ]
    }
   ],
   "source": [
    "successes_list = []\n",
    "\n",
    "for i in range(1000):\n",
    "    successes_list.append(perform_bernoulli_trial(100,0.5))\n",
    "\n",
    "print(successes_list)"
   ]
  },
  {
   "cell_type": "code",
   "execution_count": null,
   "metadata": {},
   "outputs": [],
   "source": []
  },
  {
   "cell_type": "markdown",
   "metadata": {
    "ExecuteTime": {
     "end_time": "2020-02-05T17:54:43.296477Z",
     "start_time": "2020-02-05T17:54:43.289959Z"
    }
   },
   "source": [
    "#### Count occurence of each number from `successes_list` using Counter and store the result in `count_occurence`\n",
    "\n",
    "You can find for more info about Counter [**here**](https://docs.python.org/2/library/collections.html#collections.Counter)."
   ]
  },
  {
   "cell_type": "code",
   "execution_count": 5,
   "metadata": {},
   "outputs": [],
   "source": [
    "count_occurence = Counter(successes_list)"
   ]
  },
  {
   "cell_type": "code",
   "execution_count": 6,
   "metadata": {},
   "outputs": [
    {
     "name": "stdout",
     "output_type": "stream",
     "text": [
      "Counter({50: 90, 49: 82, 52: 79, 51: 71, 47: 65, 46: 64, 48: 63, 53: 55, 55: 53, 54: 53, 45: 49, 56: 41, 44: 40, 43: 35, 57: 29, 42: 22, 58: 21, 59: 21, 41: 15, 60: 12, 40: 10, 39: 7, 61: 7, 64: 3, 37: 3, 62: 2, 38: 2, 65: 2, 34: 1, 63: 1, 66: 1, 36: 1})\n"
     ]
    }
   ],
   "source": [
    "print(count_occurence)"
   ]
  },
  {
   "cell_type": "markdown",
   "metadata": {
    "ExecuteTime": {
     "end_time": "2020-02-05T17:54:43.571225Z",
     "start_time": "2020-02-05T17:54:43.568147Z"
    }
   },
   "source": [
    "#### Count the probability for each number from `count_occurence` and store the result in `probas`\n"
   ]
  },
  {
   "cell_type": "code",
   "execution_count": 7,
   "metadata": {},
   "outputs": [],
   "source": [
    "probas = [value/1000 for value in count_occurence.values()]"
   ]
  },
  {
   "cell_type": "code",
   "execution_count": 8,
   "metadata": {},
   "outputs": [
    {
     "name": "stdout",
     "output_type": "stream",
     "text": [
      "[0.064, 0.055, 0.002, 0.09, 0.003, 0.071, 0.007, 0.065, 0.063, 0.082, 0.04, 0.053, 0.029, 0.079, 0.021, 0.022, 0.053, 0.007, 0.049, 0.015, 0.021, 0.041, 0.035, 0.012, 0.001, 0.01, 0.002, 0.003, 0.002, 0.001, 0.001, 0.001]\n"
     ]
    }
   ],
   "source": [
    "print(probas)"
   ]
  },
  {
   "cell_type": "markdown",
   "metadata": {},
   "source": [
    "Below you have some information about how to do plots in Python. We will be covering all of this during the bootcamp. But you can find these basics here so we can visualize the distributions."
   ]
  },
  {
   "cell_type": "code",
   "execution_count": 9,
   "metadata": {
    "ExecuteTime": {
     "end_time": "2020-02-05T17:54:44.056628Z",
     "start_time": "2020-02-05T17:54:43.850076Z"
    }
   },
   "outputs": [
    {
     "data": {
      "image/png": "[encoded data removed]",
      "text/plain": [
       "<Figure size 432x288 with 1 Axes>"
      ]
     },
     "metadata": {
      "needs_background": "light"
     },
     "output_type": "display_data"
    }
   ],
   "source": [
    "# plot distribution (PMF) of 'succes_list'\n",
    "plt.scatter(x=count_occurence.keys(), y=probas)\n",
    "plt.xlabel('number of succeess out of 100')\n",
    "plt.ylabel('probability')\n",
    "# Show the plot\n",
    "plt.show()"
   ]
  },
  {
   "cell_type": "markdown",
   "metadata": {
    "ExecuteTime": {
     "end_time": "2020-02-05T17:54:44.112264Z",
     "start_time": "2020-02-05T17:54:44.096570Z"
    }
   },
   "source": [
    "#### Generate 100000 numbers from uniform distribution with parameters a = 1, b = 6\n"
   ]
  },
  {
   "cell_type": "code",
   "execution_count": 15,
   "metadata": {},
   "outputs": [],
   "source": [
    "a = 1\n",
    "b = 6\n",
    "uniform = np.random.uniform(a,b,100000)"
   ]
  },
  {
   "cell_type": "code",
   "execution_count": 16,
   "metadata": {},
   "outputs": [
    {
     "name": "stdout",
     "output_type": "stream",
     "text": [
      "[4.33560781 2.87460986 4.37651879 ... 2.59731774 2.18347683 1.68233615]\n"
     ]
    }
   ],
   "source": [
    "print(uniform)"
   ]
  },
  {
   "cell_type": "code",
   "execution_count": 20,
   "metadata": {
    "ExecuteTime": {
     "end_time": "2020-02-05T17:54:44.515039Z",
     "start_time": "2020-02-05T17:54:44.330746Z"
    },
    "jupyter": {
     "outputs_hidden": true
    }
   },
   "outputs": [
    {
     "data": {
      "image/png": "[encoded data removed]",
      "text/plain": [
       "<Figure size 432x288 with 1 Axes>"
      ]
     },
     "metadata": {
      "needs_background": "light"
     },
     "output_type": "display_data"
    }
   ],
   "source": [
    "# plot histogram of uniform distribution with paramsdensity=True, bins=6\n",
    "plt.hist(uniform, density=True, bins=6)\n",
    "plt.ylabel('density')\n",
    "plt.xlabel('value')\n",
    "plt.show()"
   ]
  },
  {
   "cell_type": "markdown",
   "metadata": {
    "ExecuteTime": {
     "end_time": "2020-02-05T17:54:44.583762Z",
     "start_time": "2020-02-05T17:54:44.555162Z"
    }
   },
   "source": [
    "#### Check the mean of uniform data (using NumPy)"
   ]
  },
  {
   "cell_type": "code",
   "execution_count": 18,
   "metadata": {},
   "outputs": [
    {
     "name": "stdout",
     "output_type": "stream",
     "text": [
      "3.5047390244200036\n"
     ]
    }
   ],
   "source": [
    "average = np.mean(uniform)\n",
    "print(average)"
   ]
  },
  {
   "cell_type": "code",
   "execution_count": null,
   "metadata": {},
   "outputs": [],
   "source": []
  },
  {
   "cell_type": "markdown",
   "metadata": {
    "ExecuteTime": {
     "end_time": "2020-02-05T17:54:44.758510Z",
     "start_time": "2020-02-05T17:54:44.752087Z"
    }
   },
   "source": [
    "#### Generate 100000 numbers from exponential distribution with parameter beta = 0.5\n",
    "\n",
    "The exponential distribution is sometimes parametrized in terms of the scale parameter **β = 1/λ**. We were reading about the **λ** in the previous reading."
   ]
  },
  {
   "cell_type": "code",
   "execution_count": 28,
   "metadata": {},
   "outputs": [],
   "source": [
    "exponential = np.random.exponential(scale=0.5, size = 100000)"
   ]
  },
  {
   "cell_type": "code",
   "execution_count": 29,
   "metadata": {},
   "outputs": [
    {
     "name": "stdout",
     "output_type": "stream",
     "text": [
      "[0.08431501 0.25937335 0.08338304 ... 0.35008568 2.21848033 0.85788561]\n"
     ]
    }
   ],
   "source": [
    "print(exponential)"
   ]
  },
  {
   "cell_type": "markdown",
   "metadata": {
    "ExecuteTime": {
     "end_time": "2020-02-05T17:54:45.134091Z",
     "start_time": "2020-02-05T17:54:44.956351Z"
    }
   },
   "source": [
    "#### Plot histogram of exponential distribution with params `density=True`, `bins=100`\n"
   ]
  },
  {
   "cell_type": "code",
   "execution_count": 30,
   "metadata": {},
   "outputs": [
    {
     "data": {
      "image/png": "[encoded data removed]",
      "text/plain": [
       "<Figure size 432x288 with 1 Axes>"
      ]
     },
     "metadata": {
      "needs_background": "light"
     },
     "output_type": "display_data"
    }
   ],
   "source": [
    "plt.hist(exponential, density= True, bins= 100)\n",
    "plt.xlabel('x-axis')\n",
    "plt.ylabel('y-axis')\n",
    "plt.show()"
   ]
  },
  {
   "cell_type": "code",
   "execution_count": null,
   "metadata": {},
   "outputs": [],
   "source": []
  },
  {
   "cell_type": "markdown",
   "metadata": {
    "ExecuteTime": {
     "end_time": "2020-02-05T17:54:45.187080Z",
     "start_time": "2020-02-05T17:54:45.171406Z"
    }
   },
   "source": [
    "#### Check the mean of exponential data"
   ]
  },
  {
   "cell_type": "code",
   "execution_count": 31,
   "metadata": {},
   "outputs": [
    {
     "name": "stdout",
     "output_type": "stream",
     "text": [
      "0.49989291910237815\n"
     ]
    }
   ],
   "source": [
    "average = np.mean(exponential)\n",
    "print(average)"
   ]
  },
  {
   "cell_type": "code",
   "execution_count": null,
   "metadata": {},
   "outputs": [],
   "source": []
  }
 ],
 "metadata": {
  "kernelspec": {
   "display_name": "Python 3 (ipykernel)",
   "language": "python",
   "name": "python3"
  },
  "language_info": {
   "codemirror_mode": {
    "name": "ipython",
    "version": 3
   },
   "file_extension": ".py",
   "mimetype": "text/x-python",
   "name": "python",
   "nbconvert_exporter": "python",
   "pygments_lexer": "ipython3",
   "version": "3.8.13"
  },
  "toc": {
   "base_numbering": 1,
   "nav_menu": {},
   "number_sections": true,
   "sideBar": true,
   "skip_h1_title": false,
   "title_cell": "Table of Contents",
   "title_sidebar": "Contents",
   "toc_cell": false,
   "toc_position": {},
   "toc_section_display": true,
   "toc_window_display": false
  },
  "varInspector": {
   "cols": {
    "lenName": 16,
    "lenType": 16,
    "lenVar": 40
   },
   "kernels_config": {
    "python": {
     "delete_cmd_postfix": "",
     "delete_cmd_prefix": "del ",
     "library": "var_list.py",
     "varRefreshCmd": "print(var_dic_list())"
    },
    "r": {
     "delete_cmd_postfix": ") ",
     "delete_cmd_prefix": "rm(",
     "library": "var_list.r",
     "varRefreshCmd": "cat(var_dic_list()) "
    }
   },
   "types_to_exclude": [
    "module",
    "function",
    "builtin_function_or_method",
    "instance",
    "_Feature"
   ],
   "window_display": false
  }
 },
 "nbformat": 4,
 "nbformat_minor": 4
}
