{
 "cells": [
  {
   "cell_type": "markdown",
   "metadata": {
    "ExecuteTime": {
     "end_time": "2020-02-05T17:56:18.818219Z",
     "start_time": "2020-02-05T17:56:18.810698Z"
    }
   },
   "source": [
    "## Exercise 1\n",
    "In Orange County, 51% of the adults are males. (It doesn't take too much advanced\n",
    "mathematics to deduce that the other 49% are females.) One adult is randomly selected\n",
    "for a survey involving credit card usage.\n",
    "\n",
    "- **(a)** Find the probability that the selected person is a male.\n",
    "\n",
    "- **(b)** It is later learned that the selected survey subject was smoking a cigar. Also, 9.5% of males smoke cigars, whereas 1.7% of females smoke cigars (based on data from the Substance Abuse and Mental Health Services Administration). Use this additional information to find the probability that the cigar−smoking respondent is a male\n",
    "\n",
    "Use following notation:\n",
    "M = male <br>\n",
    "F = female <br>\n",
    "C = cigar smoker<br>\n",
    "NC = not a cigar smoker<br>\n"
   ]
  },
  {
   "cell_type": "code",
   "execution_count": 2,
   "metadata": {},
   "outputs": [],
   "source": [
    "import numpy as np"
   ]
  },
  {
   "cell_type": "code",
   "execution_count": 105,
   "metadata": {},
   "outputs": [
    {
     "name": "stdout",
     "output_type": "stream",
     "text": [
      "50.339999999999996 % chance of being Male\n",
      "86.29893238434164 % chance of being male given that they smoke\n"
     ]
    }
   ],
   "source": [
    "population = 10000\n",
    "M = 0\n",
    "F = 0\n",
    "C = 0\n",
    "NC = 0\n",
    "MC = 0\n",
    "\n",
    "#a)\n",
    "for _ in range(population):\n",
    "    if np.random.random() > 0.49:\n",
    "        M += 1\n",
    "        \n",
    "        if np.random.random() < 0.095:\n",
    "            C += 1  \n",
    "            MC += 1\n",
    "            \n",
    "        else:\n",
    "            NC += 1\n",
    "            \n",
    "            \n",
    "    else:\n",
    "        F += 1\n",
    "        \n",
    "        if np.random.random() < 0.017:\n",
    "            C += 1\n",
    "        else: \n",
    "            NC += 1\n",
    "\n",
    "Male_percentage = M/population * 100\n",
    "Female_percentage = F/population * 100\n",
    "Cigar_percentage = C/population * 100\n",
    "Non_Cigar_percentage = NC/population * 100\n",
    "Smoke_given_male = MC/population * 100\n",
    "\n",
    "print(Male_percentage,'% chance of being Male')\n",
    "\n",
    "P_male_given_smoke = (Smoke_given_male/Cigar_percentage)*100\n",
    "\n",
    "print(P_male_given_smoke, '% chance of being male given that they smoke')\n",
    "\n",
    "#b)\n",
    "#What is the probability he is a male given he smokes cigars? (A|B)\n",
    "#What is the probability he smokes cigars given he is a male? (B|A) = \n",
    "\n",
    "\n",
    "\n"
   ]
  },
  {
   "cell_type": "code",
   "execution_count": null,
   "metadata": {},
   "outputs": [],
   "source": [
    "    "
   ]
  },
  {
   "cell_type": "markdown",
   "metadata": {
    "ExecuteTime": {
     "end_time": "2020-02-05T17:56:20.532960Z",
     "start_time": "2020-02-05T17:56:20.525450Z"
    }
   },
   "source": [
    "# Exercise 2\n",
    "\n",
    "A diagnostic test has a probability 0.95 of giving a positive result when applied to a person suffering\n",
    "from a certain disease, and a probability 0.10 of giving a (false) positive when applied to a non-sufferer. It is\n",
    "estimated that 0.5 % of the population are sufferers. Suppose that the test is now administered to a person about\n",
    "whom we have no relevant information relating to the disease (apart from the fact that he/she comes from this\n",
    "population). \n",
    "\n",
    "Calculate the following probabilities:\n",
    "- **(a)** that the test result will be positive;\n",
    "- **(b)** that, given a positive result, the person is a sufferer;\n",
    "- **(c)** that, given a negative result, the person is a non-sufferer;\n",
    "- **(d)** that the person will be misclassified.\n",
    "\n",
    "Use following notation:\n",
    "\n",
    "T = test positive <br>\n",
    "NT = test negative<br>\n",
    "S = sufferer<br>\n",
    "NS = non-sufferer<br>\n",
    "M = misclassified<br>\n",
    "\n",
    "Solve it by two approaches:\n",
    "1. Arithmetically\n",
    "2. By simulation"
   ]
  },
  {
   "cell_type": "code",
   "execution_count": 75,
   "metadata": {},
   "outputs": [],
   "source": [
    "# Arithmetically\n",
    "# Probability of having the disease = 0.005\n",
    "    # Probability of having the disease and testing positive = 0.95\n",
    "    # Probability of having the disease and testing negative = 0.05\n",
    "# Probability of not having the disease = 0.995\n",
    "    # Probability of not having the disease and testing positive = 0.10\n",
    "    # Probability of not having the disease and testing negative = 0.90\n",
    "    \n",
    "# Probability of testing positive?\n",
    "    # (0.005*0.95) + (0.995*0.10) = 0.1042*100 = 10.42%\n",
    "\n",
    "# Probability that they have the disease given they're positive? (B|A)\n",
    "    # (A|B) = (A)*(B|A)/(B)\n",
    "    # (A|B) = (0.005)*(0.95)/(0.1042)\n",
    "    # (A|B) = 0.045 * 100 = 4.5%\n",
    "    \n",
    "# Probability of being healthy given a negative result\n",
    "    # (A|B) = (0.995)*(0.90)/(1 - 0.1042)\n",
    "    # (A|B) = 99%\n",
    "    \n",
    "# Probability of a misclassification\n",
    "    # (0.005*0.05) + (0.995*0.10) = 0.0997*100 = 9.97%\n",
    "\n",
    "    \n",
    "    "
   ]
  },
  {
   "cell_type": "code",
   "execution_count": 131,
   "metadata": {},
   "outputs": [
    {
     "name": "stdout",
     "output_type": "stream",
     "text": [
      "0.10335\n",
      "0.04430575713594581\n",
      "0.9988981207829142\n",
      "0.09905\n"
     ]
    }
   ],
   "source": [
    "population = 100000\n",
    "T = 0\n",
    "NT = 0\n",
    "S = 0\n",
    "NS = 0\n",
    "M = 0\n",
    "\n",
    "\n",
    "for _ in range(population):\n",
    "    \n",
    "    if np.random.random() <= 0.005:\n",
    "        S += 1\n",
    "        \n",
    "        if np.random.random() <= 0.95:\n",
    "            T += 1\n",
    "            \n",
    "        else:\n",
    "            M += 1\n",
    "            NT += 1\n",
    "        \n",
    "    else:\n",
    "        NS += 1\n",
    "        \n",
    "        if np.random.random() <= 0.90:\n",
    "            NT += 1\n",
    "            \n",
    "        else:\n",
    "            M += 1\n",
    "            T += 1\n",
    "\n",
    "P_Pos = (T/population)\n",
    "P_Neg = (NT/population)\n",
    "P_Sick = (S/population)\n",
    "P_Not_Sick = (NS/population)\n",
    "P_Mis = (M/population)\n",
    "\n",
    "        \n",
    "#a)\n",
    "P_Pos_Test = (P_Pos/(P_Pos + P_Neg))\n",
    "print(P_Pos_Test)\n",
    "\n",
    "#b)\n",
    "P_Sick_Pos = ((P_Sick * 0.95)/P_Pos_Test)\n",
    "print(P_Sick_Pos)\n",
    "\n",
    "#c)\n",
    "P_NSNT = ((P_Not_Sick * 0.90)/(1-P_Pos_Test))\n",
    "print(P_NSNT)\n",
    "\n",
    "#d)\n",
    "print(P_Mis)\n"
   ]
  },
  {
   "cell_type": "code",
   "execution_count": 126,
   "metadata": {},
   "outputs": [
    {
     "name": "stdout",
     "output_type": "stream",
     "text": [
      "0.9996651038178164\n"
     ]
    }
   ],
   "source": []
  },
  {
   "cell_type": "code",
   "execution_count": null,
   "metadata": {},
   "outputs": [],
   "source": []
  }
 ],
 "metadata": {
  "kernelspec": {
   "display_name": "Python 3 (ipykernel)",
   "language": "python",
   "name": "python3"
  },
  "language_info": {
   "codemirror_mode": {
    "name": "ipython",
    "version": 3
   },
   "file_extension": ".py",
   "mimetype": "text/x-python",
   "name": "python",
   "nbconvert_exporter": "python",
   "pygments_lexer": "ipython3",
   "version": "3.8.13"
  },
  "toc": {
   "base_numbering": 1,
   "nav_menu": {},
   "number_sections": true,
   "sideBar": true,
   "skip_h1_title": false,
   "title_cell": "Table of Contents",
   "title_sidebar": "Contents",
   "toc_cell": false,
   "toc_position": {},
   "toc_section_display": true,
   "toc_window_display": false
  },
  "varInspector": {
   "cols": {
    "lenName": 16,
    "lenType": 16,
    "lenVar": 40
   },
   "kernels_config": {
    "python": {
     "delete_cmd_postfix": "",
     "delete_cmd_prefix": "del ",
     "library": "var_list.py",
     "varRefreshCmd": "print(var_dic_list())"
    },
    "r": {
     "delete_cmd_postfix": ") ",
     "delete_cmd_prefix": "rm(",
     "library": "var_list.r",
     "varRefreshCmd": "cat(var_dic_list()) "
    }
   },
   "types_to_exclude": [
    "module",
    "function",
    "builtin_function_or_method",
    "instance",
    "_Feature"
   ],
   "window_display": false
  }
 },
 "nbformat": 4,
 "nbformat_minor": 4
}
